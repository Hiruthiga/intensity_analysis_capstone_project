{
 "cells": [
  {
   "cell_type": "markdown",
   "id": "427b3e02-2cb5-4cc6-a7fe-635d30b1fcbd",
   "metadata": {},
   "source": [
    "## Visualize the distribution of intensity using a countplot"
   ]
  },
  {
   "cell_type": "code",
   "execution_count": null,
   "id": "5c17a5b0-d5b9-403f-96d5-c6b02d4ff07d",
   "metadata": {},
   "outputs": [],
   "source": []
  },
  {
   "cell_type": "code",
   "execution_count": 3,
   "id": "c57da8dd-f6e2-497a-a0a3-6d09ef61badf",
   "metadata": {},
   "outputs": [],
   "source": [
    "# check for NULL content after processing\n",
    "\n",
    "def check_null_content(data, count_column):\n",
    "    # Create a boolean mask to identify rows where clean_length is 0\n",
    "    zero_length_mask = data[count_column] == 0\n",
    "\n",
    "    # Use the mask to filter rows with clean_length equal to 0\n",
    "    rows_with_zero_length = data[zero_length_mask]\n",
    "    \n",
    "    # Display rows where clean_length is 0\n",
    "    if rows_with_zero_length.empty:\n",
    "        print(\"No Null content\")\n",
    "    else:\n",
    "        print(\"Null content\")\n",
    "        print(rows_with_zero_length)\n",
    "\n",
    "    return\n"
   ]
  },
  {
   "cell_type": "code",
   "execution_count": 1,
   "id": "6b67ff17-c18b-4222-bea6-ed5b911f9faf",
   "metadata": {},
   "outputs": [],
   "source": [
    "# Visualize the distribution of intensity using a countplot\n",
    "\n",
    "def vizualize_word_count(dataframe):\n",
    "    plt.figure(figsize=(10, 6))\n",
    "\n",
    "    sns.countplot(data = dataframe, x='intensity')\n",
    "\n",
    "    # Loop through each bar to annotate the count\n",
    "    for p in plt.gca().patches:\n",
    "        plt.gca().annotate(f'\\n{p.get_height()}', \n",
    "                           (p.get_x() + p.get_width() / 2., \n",
    "                            p.get_height()),\n",
    "                           ha='center', va='center', xytext=(0, 10), textcoords='offset points')\n",
    "\n",
    "    plt.title('Count of Each Intensity')\n",
    "    plt.ylabel('count of instances')\n",
    "    plt.xlabel('Intensity')\n",
    "\n",
    "    plt.show()\n",
    "    return   "
   ]
  },
  {
   "cell_type": "code",
   "execution_count": null,
   "id": "7ec2e62e-10c0-4511-90ab-7b5c12f30acd",
   "metadata": {},
   "outputs": [],
   "source": [
    "def dist_word_count(data, column):\n",
    "    # Create subplots for each intensity\n",
    "    fig, axes = plt.subplots(1, 3, figsize=(15, 5))\n",
    "    \n",
    "    # Define colors for each intensity\n",
    "    colors = ['green', 'purple', 'blue']\n",
    "    \n",
    "    # Plot histogram for each intensity using seaborn histplot\n",
    "    for ax, intensity, colour in zip(axes.flatten(), [ 'happiness', 'sadness', 'angriness'], colors):\n",
    "        counts = data[data['intensity'] == intensity][column].value_counts().sort_index()\n",
    "        ax.bar(counts.index, counts.values, color=colour)\n",
    "\n",
    "        ax.set_title(f'Histogram of Word Count for {intensity.capitalize()}')\n",
    "        ax.set_xlabel(column)\n",
    "        ax.set_ylabel('Frequency')\n",
    "        ax.grid(True, alpha=0.5, axis='y')\n",
    "        \n",
    "    plt.tight_layout()\n",
    "    plt.show()\n",
    "    return\n"
   ]
  },
  {
   "cell_type": "markdown",
   "id": "9b3e5646-06d3-4295-aee6-9284c5067ced",
   "metadata": {},
   "source": [
    "def hist_word_count(data, column, bin=10):\n",
    "    \n",
    "    # Create subplots for each intensity\n",
    "    fig, axes = plt.subplots(1, 3, figsize=(15, 5))\n",
    "    \n",
    "    # Define colors for each intensity\n",
    "    colors = ['green', 'purple', 'blue']\n",
    "    \n",
    "    # Plot histogram for each intensity\n",
    "    for ax, intensity, color in zip(axes.flatten(), ['happiness', 'sadness', 'angriness'], colors):\n",
    "        data[data['intensity'] == intensity][column].plot.hist(ax=ax, bins=bin,  color=color)  # Adjust bins as needed\n",
    "        #ax.hist(counts, bins=bin, color=colour, edgecolor='black')\n",
    "        #sns.histplot(data=data[data['intensity'] == intensity], x=column, bins=bin, ax=ax, color=color)\n",
    "        #print(data)       \n",
    "        ax.set_title(f'Histogram of Word Count (Before cleaning) for {intensity.capitalize()}')\n",
    "        ax.set_xlabel(column)\n",
    "        ax.set_ylabel('Frequency')\n",
    "    \n",
    "    plt.tight_layout()\n",
    "    plt.show()\n",
    "    return"
   ]
  },
  {
   "cell_type": "code",
   "execution_count": null,
   "id": "a31c53ac-978a-452c-af84-e1dd4ed1d182",
   "metadata": {},
   "outputs": [],
   "source": [
    "def text_clean(text):\n",
    "    \n",
    "    #lowercase the text \n",
    "    text = text.lower()\n",
    "\n",
    "    # Remove special characters, punctuation, and anything other than a-z and 0-9\n",
    "    text = re.sub(r'[^a-z0-9\\s]', '', text)\n",
    "    \n",
    "    # Remove extra whitespaces\n",
    "    text = re.sub(r'\\s+', ' ', text).strip()\n",
    "\n",
    "     # Remove numbers\n",
    "    text = re.sub(r'\\d+', '', text).strip()\n",
    "    \n",
    "    #remove the @mention\n",
    "    text = re.sub(\"@[A-Za-z0-9_]+\",\"\", text) \n",
    "    \n",
    "    #remove the hastags\n",
    "    text = re.sub (\"#[A-Za-z0-9_]+\",\"\", text) \n",
    "    \n",
    "    #remove any links\n",
    "    text = re.sub(r\"http\\S+\", \"\", text)\n",
    "    text = re.sub (r\"www.\\S+\", \"\", text)\n",
    "    return text"
   ]
  },
  {
   "cell_type": "code",
   "execution_count": null,
   "id": "65fb18aa-ca34-4e98-ae6f-501435e7c83b",
   "metadata": {},
   "outputs": [],
   "source": [
    "def diff_content_column(data, column1, column2):\n",
    "    # Compare two content columns and print rows where they are different\n",
    "    different_rows = data[data[column1] != data[column2]]\n",
    "    if len(different_rows) > 0:\n",
    "        print(f'Difference in two column exsist in {len(different_rows)} rows')\n",
    "        print(\"Returnded dataframe with different rows\")\n",
    "        return different_rows[[column1, column2]]\n",
    "    else:\n",
    "        print(\"Both the column have no change in data\")\n",
    "        print(\"Returned input dataframe\")\n",
    "        return data"
   ]
  },
  {
   "cell_type": "code",
   "execution_count": 1,
   "id": "9d002706-8c71-43c1-aefe-4cf67d0b3046",
   "metadata": {},
   "outputs": [],
   "source": [
    "def word_average_per_intensity(data, count_column):\n",
    "    print(\" Average Words in each intensity \")\n",
    "    print(\" hapiness  :\", round (data[data['intensity']=='happiness'][count_column].mean())) \n",
    "    print(\" sadness   :\", round (data[data['intensity'] == 'sadness'][count_column].mean()))\n",
    "    print(\" angriness :\", round (data[data['intensity'] == 'angriness'][count_column].mean()))\n",
    "    return\n"
   ]
  },
  {
   "cell_type": "code",
   "execution_count": null,
   "id": "a34c0512-8460-43cc-b80c-e3d4ce3f87de",
   "metadata": {},
   "outputs": [],
   "source": []
  }
 ],
 "metadata": {
  "kernelspec": {
   "display_name": "Python 3 (ipykernel)",
   "language": "python",
   "name": "python3"
  },
  "language_info": {
   "codemirror_mode": {
    "name": "ipython",
    "version": 3
   },
   "file_extension": ".py",
   "mimetype": "text/x-python",
   "name": "python",
   "nbconvert_exporter": "python",
   "pygments_lexer": "ipython3",
   "version": "3.11.5"
  }
 },
 "nbformat": 4,
 "nbformat_minor": 5
}
